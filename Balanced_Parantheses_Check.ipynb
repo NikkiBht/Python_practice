{
 "cells": [
  {
   "cell_type": "code",
   "execution_count": 65,
   "metadata": {},
   "outputs": [],
   "source": [
    "#Given a string of opening and closing parentheses, \n",
    "#check whether it’s balanced. We have 3 types of parentheses: \n",
    "#round brackets: (), square brackets: [], and curly brackets: {}. \n",
    "#Assume that the string doesn’t contain any other character than these, no spaces words or numbers. \n",
    "#As a reminder, balanced parentheses require every opening parenthesis to be closed in the reverse order opened. \n",
    "#For example ‘([])’ is balanced but ‘([)]’ is not.\n",
    "\n",
    "#You can assume the input string has no spaces."
   ]
  },
  {
   "cell_type": "code",
   "execution_count": 74,
   "metadata": {},
   "outputs": [],
   "source": [
    "#sol1\n",
    "def balance_check0(s):\n",
    "    s = list(s)\n",
    "    ss = list(s)\n",
    "    for p in s:\n",
    "        if p == '(' and ')' in ss:\n",
    "            ss.remove(p)\n",
    "            ss.remove(')')\n",
    "        \n",
    "        elif p == '[' and ']' in ss:\n",
    "            ss.remove(p)\n",
    "            ss.remove(']')\n",
    "        \n",
    "        elif p == '{' and '}' in ss:\n",
    "            ss.remove(p)\n",
    "            ss.remove('}')\n",
    "        else:\n",
    "            pass\n",
    "        \n",
    "    return len(ss) == 0\n",
    "\n",
    "#bad solution does not pass all the tests.\n"
   ]
  },
  {
   "cell_type": "code",
   "execution_count": 24,
   "metadata": {},
   "outputs": [],
   "source": [
    "#\n",
    "def balance_check(s):\n",
    "    \n",
    "    # Check is even number of brackets\n",
    "    if len(s)%2 != 0:\n",
    "        return False\n",
    "    \n",
    "    # Set of opening brackets\n",
    "    opening = set('([{') \n",
    "    \n",
    "    # Matching Pairs\n",
    "    matches = set([ ('(',')'), ('[',']'), ('{','}') ]) \n",
    "    \n",
    "    # Use a list as a \"Stack\"\n",
    "    stack = []\n",
    "    \n",
    "    # Check every parenthesis in string\n",
    "    for paren in s:\n",
    "        \n",
    "        # If its an opening, append it to list\n",
    "        if paren in opening:\n",
    "            stack.append(paren)\n",
    "        \n",
    "        else:\n",
    "            \n",
    "            # Check that there are parentheses in Stack\n",
    "            if len(stack) == 0:\n",
    "                return False\n",
    "            \n",
    "            # Check the last open parenthesis\n",
    "            last_open = stack.pop()\n",
    "            \n",
    "            # Check if it has a closing match\n",
    "            if (last_open,paren) not in matches:\n",
    "                return False\n",
    "            \n",
    "    return len(stack) == 0"
   ]
  },
  {
   "cell_type": "code",
   "execution_count": 29,
   "metadata": {},
   "outputs": [],
   "source": [
    "def balance_check00(s):\n",
    "    \n",
    "    if len(s)%2 != 0:\n",
    "        return False\n",
    "    \n",
    "    stack = []\n",
    "    opening = {'(','{', '['}\n",
    "    pairs = { ('(',')') , ('{','}') , ('[',']') }\n",
    "    \n",
    "    \n",
    "    for letter in s:\n",
    "        \n",
    "        if letter in opening:\n",
    "            stack.append(letter)\n",
    "            \n",
    "            \n",
    "        else:\n",
    "            try:\n",
    "                last_opening = stack.pop()\n",
    "            except IndexError:\n",
    "                return False\n",
    "            if (last_opening, letter) not in pairs:\n",
    "                return False\n",
    "            \n",
    "    return len(stack) == 0"
   ]
  },
  {
   "cell_type": "code",
   "execution_count": 30,
   "metadata": {},
   "outputs": [
    {
     "name": "stdout",
     "output_type": "stream",
     "text": [
      "ALL TEST CASES PASSED\n"
     ]
    }
   ],
   "source": [
    "\"\"\"\n",
    "RUN THIS CELL TO TEST YOUR SOLUTION\n",
    "\"\"\"\n",
    "from nose.tools import assert_equal\n",
    "\n",
    "class TestBalanceCheck(object):\n",
    "    \n",
    "    def test(self,sol):\n",
    "        assert_equal(sol('[](){([[[]]])}('),False)\n",
    "        assert_equal(sol('[{{{(())}}}]((()))'),True)\n",
    "        assert_equal(sol('[[[]])]'),False)\n",
    "        assert_equal(sol('[](){}'),True)\n",
    "        assert_equal(sol('[(]){}'),False)\n",
    "        assert_equal(sol('])'),False)\n",
    "        assert_equal(sol('(['),False)\n",
    "        print('ALL TEST CASES PASSED')\n",
    "        \n",
    "# Run Tests\n",
    "\n",
    "t = TestBalanceCheck()\n",
    "t.test(balance_check00)"
   ]
  },
  {
   "cell_type": "code",
   "execution_count": null,
   "metadata": {},
   "outputs": [],
   "source": []
  }
 ],
 "metadata": {
  "kernelspec": {
   "display_name": "Python 3",
   "language": "python",
   "name": "python3"
  },
  "language_info": {
   "codemirror_mode": {
    "name": "ipython",
    "version": 3
   },
   "file_extension": ".py",
   "mimetype": "text/x-python",
   "name": "python",
   "nbconvert_exporter": "python",
   "pygments_lexer": "ipython3",
   "version": "3.7.6"
  }
 },
 "nbformat": 4,
 "nbformat_minor": 4
}
