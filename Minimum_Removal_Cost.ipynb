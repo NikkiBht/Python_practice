{
 "cells": [
  {
   "cell_type": "markdown",
   "metadata": {},
   "source": [
    "There is a string S consisting of N letters 'a' and 'b'. In one move, a single letter can be removed. Removing the first or the last letter in the string costs 1 and removing any other letter costs 2. After removing a letter from the middle, the two remaining parts are joined.\n",
    "\n",
    "For example, given S = \"abaab\", removing the central letter 'a' from S costs 2. The string that would remain after this operation is \"abab\".\n",
    "\n",
    "What is the minimum cost needed to obtain a string without any letter 'b'?\n",
    "\n",
    "Write a function:\n",
    "\n",
    "class Solution { public int solution(String S); }\n",
    "\n",
    "that, given a string S, returns the minimum cost of removals so that the remaining sequence does not contain any letter 'b'.\n",
    "\n",
    "Examples:\n",
    "\n",
    "1. Given S = \"aabaa\", the function should return 2. After removing 'b' from the middle, the remaining sequence contains no 'b's.\n",
    "\n",
    "2. Given S = \"abbaaba\", the function should return 5. We can perform the following operations: abbaaba → bbaaba → baaba → aaba → aaa. The cost of these operations is 1 + 1 + 1 + 2 = 5. Another option is: abbaaba → bbaaba → baaba → aaba → aab → aa, resulting in a cost of 1 + 1 + 1 + 1 + 1 = 5.\n",
    "\n",
    "3. Given S = \"bbb\", the function should return 3. We can keep removing the last letter from the string until the string is empty.\n",
    "\n",
    "4. Given S = \"abbbaabaabbba\", the function should return 10. We can remove the middle letter 'b' (cost 2), then the first four letters (\"abbb\") and the last four letters (\"bbba\"), each at a cost of 4.\n",
    "\n",
    "Write an efficient algorithm for the following assumptions:\n",
    "\n",
    "N is an integer within the range [1..100,000];\n",
    "string S consists only of the characters 'a' and/or 'b'."
   ]
  },
  {
   "cell_type": "code",
   "execution_count": 104,
   "metadata": {},
   "outputs": [],
   "source": [
    "def solution(S):\n",
"    all_cost_b = 0\n",
"    S = list(S)\n",
"    \n",
"    while S.count('b') != 0:\n",
"        first_b_index = S.index('b')\n",
"        S_reversed = S[::-1]\n",
"        first_b_index_reversed_S = len(S) - 1 - S_reversed.index('b')\n",
"        \n",
"        if first_b_index < first_b_index_reversed_S:\n",
"            len_right = len(S) - first_b_index - 1\n",
"            len_left = first_b_index\n",
"            \n",
"            first_b_cost = min([2, len_left, len_right])\n",
"            all_cost_b += first_b_cost\n",
"            \n",
"            if first_b_cost == len_left:\n",
"                S = S[first_b_index + 1:]\n",
"            elif first_b_cost == len_right:\n",
"                S = S[:first_b_index]\n",
"            elif first_b_cost == 2:\n",
"                S.remove('b')\n",
"        else:\n",
"            S.remove('b')\n",
"            all_cost_b += 1\n",
"    \n",
"    return all_cost_b\n"
  {
   "cell_type": "code",
   "execution_count": 105,
   "metadata": {},
   "outputs": [],
   "source": [
    "S = \"aabbb\""
   ]
  },
  {
   "cell_type": "code",
   "execution_count": 106,
   "metadata": {},
   "outputs": [
    {
     "data": {
      "text/plain": [
       "3"
      ]
     },
     "execution_count": 106,
     "metadata": {},
     "output_type": "execute_result"
    }
   ],
   "source": [
    "solution(S)"
   ]
  },
  {
   "cell_type": "code",
   "execution_count": null,
   "metadata": {},
   "outputs": [],
   "source": []
  }
 ],
 "metadata": {
  "kernelspec": {
   "display_name": "Python 3",
   "language": "python",
   "name": "python3"
  },
  "language_info": {
   "codemirror_mode": {
    "name": "ipython",
    "version": 3
   },
   "file_extension": ".py",
   "mimetype": "text/x-python",
   "name": "python",
   "nbconvert_exporter": "python",
   "pygments_lexer": "ipython3",
   "version": "3.7.6"
  }
 },
 "nbformat": 4,
 "nbformat_minor": 4
}
