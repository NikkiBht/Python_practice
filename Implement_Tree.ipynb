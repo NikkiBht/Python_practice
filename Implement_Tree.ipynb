{
 "cells": [
  {
   "cell_type": "code",
   "execution_count": 4,
   "metadata": {},
   "outputs": [],
   "source": [
    "class binary_tree:\n",
    "    \n",
    "    def __init__(self, root):\n",
    "        \n",
    "        self.root = root\n",
    "        self.right = None\n",
    "        self.left = None\n",
    "        \n",
    "        \n",
    "    def insert_left(self, new_node):\n",
    "        \n",
    "        if self.left == None:\n",
    "            self.left = binary_tree(new_node)\n",
    "            \n",
    "        else:\n",
    "            New_ = binary_tree(new_node)\n",
    "            b.left = self.left\n",
    "            self.left = b\n",
    "            \n",
    "            \n",
    "    def insert_left(self, new_node):\n",
    "        \n",
    "        if self.right == None:\n",
    "            self.right = binary_tree(new_node)\n",
    "            \n",
    "        else:\n",
    "            New_ = binary_tree(new_node)\n",
    "            b.righ = self.right\n",
    "            self.right = b\n",
    "            \n",
    "    def get_child_right(self)\n",
    "        return self.right\n",
    "    \n",
    "    def get_child_left(self)\n",
    "        return self.left\n",
    "    \n",
    "    def set_root(self,root2):\n",
    "        self.root = root2\n",
    "        \n",
    "    def get_root(self):\n",
    "        return self.root\n",
    "        \n",
    "    \n",
    "    \n",
    "    \n",
    "    \n",
    "    \n",
    "        \n",
    "    \n",
    "            \n",
    "            "
   ]
  },
  {
   "cell_type": "code",
   "execution_count": null,
   "metadata": {},
   "outputs": [],
   "source": []
  }
 ],
 "metadata": {
  "kernelspec": {
   "display_name": "Python 3",
   "language": "python",
   "name": "python3"
  },
  "language_info": {
   "codemirror_mode": {
    "name": "ipython",
    "version": 3
   },
   "file_extension": ".py",
   "mimetype": "text/x-python",
   "name": "python",
   "nbconvert_exporter": "python",
   "pygments_lexer": "ipython3",
   "version": "3.7.6"
  }
 },
 "nbformat": 4,
 "nbformat_minor": 4
}
