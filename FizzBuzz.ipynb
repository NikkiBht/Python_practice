{
 "cells": [
  {
   "cell_type": "code",
   "execution_count": 2,
   "metadata": {},
   "outputs": [
    {
     "name": "stdout",
     "output_type": "stream",
     "text": [
      "Test Succeeded\n"
     ]
    }
   ],
   "source": [
    "# FizzBuzz\n",
    "# Return a list of strings containing the numbers 1 to n except for the following rules:\n",
    "# 1. If a number ~i~ is divisible by ~3~ and ~5~ print \"FizzBuzz\" instead of the number\n",
    "# 2. If a number ~i~ is divisible by ~3~ (and not ~5~) print \"Fizz\" instead of the number\n",
    "# 3. If a number ~i~ is divisible by ~5~ (and not ~3~) print \"Buzz\" instead of the number\n",
    " \n",
    "# - What if there are multiple rules?\n",
    "#   - e.g., if divisible by 3 write fizz, by 5 write buzz, by 7 write jazz, ...\n",
    "#     - then we have 1, 2, fizz, 4, buzz, fizzbuzz, jazz, 8, fizz, buzz, 11, fizz, 13, jazz, fizzbuzz etc.\n",
    "#       and eventually fizzjazz for 21, buzzjazz for 35, fizzbuzzjazz for 105\n",
    "\n",
    "# Suppose there N numbers, in asymptotic terms, how many if statements do you need?\n",
    "# with 1 numbers: 3 -- you check: 3 TOTAL = 1\n",
    "# with 2 numbers: 3, 5 -- you check: 3, 5, (3, 5) TOTAL = 3\n",
    "# with 3 numbers: 3, 5, 7 -- you check: 3, 5, 7, (3, 5), (3, 7), (5, 7), (3, 5, 7) TOTAL = 7\n",
    "# with 4 numbers: 3, 5, 7, 11 -- you check: ... TOTAL = \n",
    "\n",
    "# with 2 numbers: 3, 5 -- checking 3: 01, checking 5: 10, checking (3, 5): 11\n",
    "# with 3 numbers: 3, 5, 7 -- ... 001, 010, 100, 011, 110, 101, 111\n",
    "# with 4 numbers: 3, 5, 7, 11 -- ... 0001, 0010, 0100, 1000, ...\n",
    "\n",
    "# Number of checks: O(2^N)\n",
    "\n",
    "#{3: \"Fizz\", 5: \"Buzz\", 7:\"Jazz\"}\n",
    "\n",
    "from typing import List\n",
    "def fizz_buzz(n:int) -> List[str]:\n",
    "\n",
    "    list_ans = []\n",
    "    fizz_buzzes = [(3, \"Fizz\"), (5, \"Buzz\"), (7, \"Jazz\")]\n",
    "\n",
    "    for i in range(1,n + 1):\n",
    "        num_str = []\n",
    "        for num, word in fizz_buzzes:\n",
    "            if i % num == 0:\n",
    "                num_str.append(word)\n",
    "        num_str = \"\".join(num_str)\n",
    "        if not num_str:\n",
    "            num_str = str(i)\n",
    "        list_ans.append(num_str)\n",
    "\n",
    "    # A = \"Fizz\" if i % 3 == 0 else \"\"\n",
    "    # B = \"Buzz\" if i % 5 == 0 else \"\"\n",
    "    # C = \"Jazz\" if i % 7 == 0 else \"\"\n",
    "    # joined_string = \"\". join([A , B , C])\n",
    "    # if joined_string == \"\":\n",
    "    #   joined_string = str(i)\n",
    "    # list_ans.append(joined_string)\n",
    "\n",
    "    return list_ans\n",
    "\n",
    "def test_fizz_buzz():\n",
    "    assert fizz_buzz(15) == ['1', '2', 'Fizz', '4', 'Buzz', 'Fizz', 'Jazz', '8', 'Fizz', 'Buzz', '11', 'Fizz', '13', 'Jazz', 'FizzBuzz'], \"fizz_buzz returned the wrong thing!\"\n",
    "\n",
    "    assert fizz_buzz(16) == ['1', '2', 'Fizz', '4', 'Buzz', 'Fizz', 'Jazz', '8', 'Fizz', 'Buzz', '11', 'Fizz', '13', 'Jazz', 'FizzBuzz', '16'], \"fizz_buzz returned the wrong thing!\"\n",
    "    print(\"Test Succeeded\")\n",
    "    return\n",
    "\n",
    "test_fizz_buzz()\n"
   ]
  },
  {
   "cell_type": "code",
   "execution_count": null,
   "metadata": {},
   "outputs": [],
   "source": []
  }
 ],
 "metadata": {
  "kernelspec": {
   "display_name": "Python 3",
   "language": "python",
   "name": "python3"
  },
  "language_info": {
   "codemirror_mode": {
    "name": "ipython",
    "version": 3
   },
   "file_extension": ".py",
   "mimetype": "text/x-python",
   "name": "python",
   "nbconvert_exporter": "python",
   "pygments_lexer": "ipython3",
   "version": "3.7.6"
  }
 },
 "nbformat": 4,
 "nbformat_minor": 4
}
