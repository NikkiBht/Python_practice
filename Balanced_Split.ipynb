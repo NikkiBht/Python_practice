{
 "cells": [
  {
   "cell_type": "markdown",
   "metadata": {},
   "source": [
    "# Balanced Split"
   ]
  },
  {
   "cell_type": "markdown",
   "metadata": {},
   "source": [
    "Balanced Split\n",
    "Given an array of integers (which may include repeated integers), determine if there's a way to split the array into two subsequences A and B such that the sum of the integers in both arrays is the same, and all of the integers in A are strictly smaller than all of the integers in B.\n",
    "Note: Strictly smaller denotes that every integer in A must be less than, and not equal to, every integer in B.\n",
    "Signature\n",
    "bool balancedSplitExists(int[] arr)\n",
    "Input\n",
    "All integers in array are in the range [0, 1,000,000,000].\n",
    "Output\n",
    "Return true if such a split is possible, and false otherwise.\n",
    "Example 1\n",
    "arr = [1, 5, 7, 1]\n",
    "output = true\n",
    "We can split the array into A = [1, 1, 5] and B = [7].\n",
    "Example 2\n",
    "arr = [12, 7, 6, 7, 6]\n",
    "output = false\n",
    "We can't split the array into A = [6, 6, 7] and B = [7, 12] since this doesn't satisfy the requirement that all integers in A are smaller than all integers in B."
   ]
  },
  {
   "cell_type": "code",
   "execution_count": 40,
   "metadata": {},
   "outputs": [],
   "source": [
    "def balancedSplitExists(arr):\n",
    "\n",
    "    arr.sort()\n",
    "    partition_larger = []\n",
    "    partition_smaller = arr\n",
    "    counter = 0\n",
    "    \n",
    "    while arr:\n",
    "        \n",
    "        if sum(partition_larger) == sum(partition_smaller):\n",
    "            \n",
    "            for item in partition_larger:\n",
    "                \n",
    "                for jtem in partition_smaller:\n",
    "                    \n",
    "                    if item <= jtem :\n",
    "                        return False\n",
    "                    \n",
    "                    else:\n",
    "                        counter += 1\n",
    "                        \n",
    "            return counter == len (partition_smaller)* len(partition_larger)\n",
    "        \n",
    "        else:\n",
    "            \n",
    "            num1 = partition_smaller.pop()\n",
    "            partition_larger.append(num1)\n",
    "        \n",
    "            \n",
    "    return False"
   ]
  },
  {
   "cell_type": "code",
   "execution_count": 41,
   "metadata": {},
   "outputs": [
    {
     "data": {
      "text/plain": [
       "True"
      ]
     },
     "execution_count": 41,
     "metadata": {},
     "output_type": "execute_result"
    }
   ],
   "source": [
    "balancedSplitExists([1, 5, 7, 1])"
   ]
  },
  {
   "cell_type": "code",
   "execution_count": 42,
   "metadata": {},
   "outputs": [
    {
     "data": {
      "text/plain": [
       "False"
      ]
     },
     "execution_count": 42,
     "metadata": {},
     "output_type": "execute_result"
    }
   ],
   "source": [
    "balancedSplitExists([12, 7, 6, 7, 6])"
   ]
  },
  {
   "cell_type": "code",
   "execution_count": null,
   "metadata": {},
   "outputs": [],
   "source": []
  }
 ],
 "metadata": {
  "kernelspec": {
   "display_name": "Python 3",
   "language": "python",
   "name": "python3"
  },
  "language_info": {
   "codemirror_mode": {
    "name": "ipython",
    "version": 3
   },
   "file_extension": ".py",
   "mimetype": "text/x-python",
   "name": "python",
   "nbconvert_exporter": "python",
   "pygments_lexer": "ipython3",
   "version": "3.7.6"
  }
 },
 "nbformat": 4,
 "nbformat_minor": 4
}
