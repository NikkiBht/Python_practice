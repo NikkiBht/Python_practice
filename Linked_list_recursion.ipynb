{
 "cells": [
  {
   "cell_type": "code",
   "execution_count": 65,
   "metadata": {},
   "outputs": [],
   "source": [
    "class ListNode:\n",
    "    def __init__(self, val, next_node=None):\n",
    "        self.val:int = val\n",
    "        self.next_node = next_node  # None or another ListNode\n",
    "        return\n",
    "\n",
    "A = ListNode(4,ListNode(5, ListNode(7,None)))\n",
    "B = ListNode(1,ListNode(2, ListNode(3,None)))\n",
    "\n",
    "# dot product 4+10+21 = 35 "
   ]
  },
  {
   "cell_type": "code",
   "execution_count": 66,
   "metadata": {},
   "outputs": [
    {
     "name": "stdout",
     "output_type": "stream",
     "text": [
      "2\n",
      "4\n",
      "5\n",
      "None\n"
     ]
    }
   ],
   "source": [
    "def increment_and_print_ll_list(ll: list):\n",
    "    #elample of linnked lists: [1,[3,[4, None]]]\n",
    "    #by using recursion\n",
    "    #base case:\n",
    "    if not ll:\n",
    "        return print(\"None\")\n",
    "    else:\n",
    "        ll[0] += 1\n",
    "        print(ll[0])\n",
    "        increment_ll_list(ll[1])\n",
    "    return \n",
    "\n",
    "increment_and_print_ll_list([1,[3,[4, None]]])"
   ]
  },
  {
   "cell_type": "code",
   "execution_count": 67,
   "metadata": {},
   "outputs": [],
   "source": [
    "def increment_ll(ll):\n",
    "    \"\"\"Add one to the value of each node in the linked list.\"\"\"\n",
    "    if not ll:\n",
    "        return None\n",
    "    else:\n",
    "        ll.val +=1 \n",
    "        increment_ll(ll.next)\n",
    "    return"
   ]
  },
  {
   "cell_type": "code",
   "execution_count": 68,
   "metadata": {},
   "outputs": [
    {
     "name": "stdout",
     "output_type": "stream",
     "text": [
      "1\n",
      "3\n",
      "4\n",
      "None\n"
     ]
    }
   ],
   "source": [
    "def print_ll_lst(lst):\n",
    "    \"\"\"Print a Linked list.\n",
    "  Example: LL = [1, [2, [3, None]]]\n",
    "  Then print_ll(LL) = [1, 2, 3]\"\"\"\n",
    "    if not lst:\n",
    "        return print(\"None\")\n",
    "    else:\n",
    "        print(lst[0])\n",
    "        print_ll_lst(lst[1])\n",
    "    return None\n",
    "\n",
    "\n",
    "print_ll_lst( [1,[3,[4, None]]])"
   ]
  },
  {
   "cell_type": "code",
   "execution_count": 74,
   "metadata": {},
   "outputs": [
    {
     "name": "stdout",
     "output_type": "stream",
     "text": [
      "1\n",
      "2\n",
      "3\n",
      "None\n"
     ]
    }
   ],
   "source": [
    "def print_ll(ll):\n",
    "    #using Listnode class\n",
    "    if not ll:\n",
    "        return print(None)\n",
    "    else:\n",
    "        print(ll.val)\n",
    "        print_ll(ll.next_node)\n",
    "    return\n",
    "\n",
    "print_ll(B)"
   ]
  },
  {
   "cell_type": "code",
   "execution_count": 70,
   "metadata": {},
   "outputs": [
    {
     "data": {
      "text/plain": [
       "[4, 5, 7]"
      ]
     },
     "execution_count": 70,
     "metadata": {},
     "output_type": "execute_result"
    }
   ],
   "source": [
    "def ll_to_lst(ll):\n",
    "    if not ll:\n",
    "        return []\n",
    "    else:\n",
    "        list_ll = [ll.val]\n",
    "        list_ll.extend(ll_to_lst(ll.next_node))\n",
    "        return list_ll\n",
    "ll_to_lst(A)"
   ]
  },
  {
   "cell_type": "code",
   "execution_count": 75,
   "metadata": {},
   "outputs": [
    {
     "data": {
      "text/plain": [
       "[1, 2, 3]"
      ]
     },
     "execution_count": 75,
     "metadata": {},
     "output_type": "execute_result"
    }
   ],
   "source": [
    "def ll_to_lst_procedural(ll):\n",
    "    #without suing recursion\n",
    "    ll_list=[]\n",
    "    while ll:\n",
    "        ll_list.append(ll.val)\n",
    "        ll = ll.next_node\n",
    "    return ll_list\n",
    "ll_to_lst_procedural(B)"
   ]
  },
  {
   "cell_type": "code",
   "execution_count": 72,
   "metadata": {},
   "outputs": [
    {
     "name": "stdout",
     "output_type": "stream",
     "text": [
      "1\n",
      "2\n",
      "3\n",
      "4\n",
      "None\n"
     ]
    }
   ],
   "source": [
    "def ll_from_list(lst):\n",
    "    \"\"\"Construct a Linked List from a list.\n",
    "    lst = [1, 2, 3, 4] return LL: ListNode s.t. print_ll(LL) = [1, 2, 3, 4]\"\"\"\n",
    "    if not lst:\n",
    "        return None\n",
    "    else:            \n",
    "#         firstNode = ListNode(lst[0])\n",
    "#         firstNode.next_node = ll_from_list(lst[1:])\n",
    "#         return firstNode\n",
    "        return ListNode(lst[0], ll_from_list(lst[1:]))\n",
    "\n",
    "print_ll(ll_from_list([1, 2, 3, 4]))"
   ]
  },
  {
   "cell_type": "code",
   "execution_count": 76,
   "metadata": {},
   "outputs": [
    {
     "data": {
      "text/plain": [
       "14"
      ]
     },
     "execution_count": 76,
     "metadata": {},
     "output_type": "execute_result"
    }
   ],
   "source": [
    "def dot_product_ll(ll1, ll2):\n",
    "    if not ll1 or not ll2:\n",
    "        if not ll1 and not ll2:\n",
    "            return 0\n",
    "        else:\n",
    "            raise ValueError(\"Linkedlist must be the same length\")\n",
    "    else:\n",
    "        return ll1.val * ll2.val + dot_product_ll(ll1.next_node , ll2.next_node)\n",
    "    \n",
    "dot_product_ll(B,B)       \n"
   ]
  }
 ],
 "metadata": {
  "kernelspec": {
   "display_name": "Python 3",
   "language": "python",
   "name": "python3"
  },
  "language_info": {
   "codemirror_mode": {
    "name": "ipython",
    "version": 3
   },
   "file_extension": ".py",
   "mimetype": "text/x-python",
   "name": "python",
   "nbconvert_exporter": "python",
   "pygments_lexer": "ipython3",
   "version": "3.7.6"
  }
 },
 "nbformat": 4,
 "nbformat_minor": 4
}
