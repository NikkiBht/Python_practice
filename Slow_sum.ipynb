{
 "cells": [
  {
   "cell_type": "markdown",
   "metadata": {},
   "source": [
    "# Slow Sums"
   ]
  },
  {
   "cell_type": "markdown",
   "metadata": {},
   "source": [
    "\n",
    "Suppose we have a list of N numbers, and repeat the following operation until we're left with only a single number: Choose any two numbers and replace them with their sum. Moreover, we associate a penalty with each operation equal to the value of the new number, and call the penalty for the entire list as the sum of the penalties of each operation.\n",
    "For example, given the list [1, 2, 3, 4, 5], we could choose 2 and 3 for the first operation, which would transform the list into [1, 5, 4, 5] and incur a penalty of 5. The goal in this problem is to find the highest possible penalty for a given input.\n",
    "Signature:\n",
    "int getTotalTime(int[] arr)\n",
    "Input:\n",
    "An array arr containing N integers, denoting the numbers in the list.\n",
    "Output format:\n",
    "An int representing the highest possible total penalty.\n",
    "Constraints:\n",
    "1 ≤ N ≤ 10^6\n",
    "1 ≤ Ai ≤ 10^7, where *Ai denotes the ith initial element of an array.\n",
    "The sum of values of N over all test cases will not exceed 5 * 10^6.\n",
    "Example\n",
    "arr = [4, 2, 1, 3]\n",
    "output = 26\n",
    "First, add 4 + 3 for a penalty of 7. Now the array is [7, 2, 1]\n",
    "Add 7 + 2 for a penalty of 9. Now the array is [9, 1]\n",
    "Add 9 + 1 for a penalty of 10. The penalties sum to 26."
   ]
  },
  {
   "cell_type": "code",
   "execution_count": 23,
   "metadata": {},
   "outputs": [],
   "source": [
    "arr = [4, 2, 1, 3]\n",
    "arr.sort()\n",
    "sum_list=[]"
   ]
  },
  {
   "cell_type": "code",
   "execution_count": 26,
   "metadata": {},
   "outputs": [
    {
     "name": "stdout",
     "output_type": "stream",
     "text": [
      "26\n"
     ]
    }
   ],
   "source": [
    "while arr:\n",
    "    if len(arr)>1:\n",
    "        num1 = arr.pop()\n",
    "        num2 = arr.pop()\n",
    "        sum1 = num1 + num2\n",
    "        arr.append(sum1)\n",
    "        sum_list.append(sum1)\n",
    "        print(arr)\n",
    "    elif len(arr) == 1:\n",
    "        num3 = arr.pop()\n",
    "print(sum(sum_list))"
   ]
  },
  {
   "cell_type": "code",
   "execution_count": null,
   "metadata": {},
   "outputs": [],
   "source": []
  }
 ],
 "metadata": {
  "kernelspec": {
   "display_name": "Python 3",
   "language": "python",
   "name": "python3"
  },
  "language_info": {
   "codemirror_mode": {
    "name": "ipython",
    "version": 3
   },
   "file_extension": ".py",
   "mimetype": "text/x-python",
   "name": "python",
   "nbconvert_exporter": "python",
   "pygments_lexer": "ipython3",
   "version": "3.7.6"
  }
 },
 "nbformat": 4,
 "nbformat_minor": 4
}
