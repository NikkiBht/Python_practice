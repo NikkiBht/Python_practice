{
 "cells": [
  {
   "cell_type": "markdown",
   "metadata": {},
   "source": [
    "\n",
    "We are given an array A consisting of N integers. In one move, we can choose any element in this array and replace it with any value.\n",
    "\n",
    "What is the smallest possible amplitude of array A that we can achieve by performing at most three moves? The amplitude of an array is the difference between the largest and the smallest values it contains.\n",
    "\n",
    "Write a function:\n",
    "\n",
    "class Solution { public int solution(int[] A); }\n",
    "\n",
    "that, given an array A of N integers, returns the smallest amplitude that can be obtained after replacing up to three elements of array A.\n",
    "\n",
    "Examples:\n",
    "Given A = [-9, 8, -1], the function should return 0. We can replace -9 and 8 with -1 so that all elements are equal to -1, and then the amplitude is 0.\n",
    "Given A = [14, 10, 5, 1, 0], the function should return 1. To achieve an amplitude of 1, we can replace 14, 10 and 5 with 1 or 0.\n",
    "Given A = [11, 0, -6, -1, -3, 5], the function should return 3. This can be achieved, for example, by replacing 11, -6 and 5 with three values of -2.\n",
    "Given A = [10, 10, -6, 2, -3, 10], the function should return 0. We can replace -6, 2 and -3 with 10, making the amplitude equal to 0.\n",
    "Given A = [8, -1, 4, 3, 5, -1], the function should return 2. Replacing 8 and both occurrences of -1 with, for example, 3, 4 and 5 results in an amplitude equal to 2.\n",
    "Assume that:\n",
    "N is an integer within the range [2..12];\n",
    "each element of array A is an integer within the range [−50..50].\n",
    "In your solution, focus on correctness. The performance of your solution will not be the focus of the assessment.\n",
    "\n"
   ]
  },
  {
   "cell_type": "code",
   "execution_count": 34,
   "metadata": {},
   "outputs": [],
   "source": [
    "def solution(A):\n",
    "    \n",
    "    if len(A) <= 3:\n",
    "        return 0\n",
    "    \n",
    "    else:\n",
    "        A_copy = [i for i in A]\n",
    "        all_possible_amplitude = []\n",
    "    \n",
    "        for i in range(len(A)):\n",
    "            for b in range(i+1,len(A)):\n",
    "                for c in range(b+1,len(A)):\n",
    "                \n",
    "                    a1 = A[i]\n",
    "                    a2 = A[b]\n",
    "                    a3 = A[c]\n",
    "                \n",
    "                    A_copy.remove(a1)\n",
    "                    A_copy.remove(a2)\n",
    "                    A_copy.remove(a3)\n",
    "                \n",
    "                    all_possible_amplitude.append(abs(max(A_copy)-min(A_copy)))\n",
    "                    A_copy = [i for i in A]\n",
    "    \n",
    "        return min(all_possible_amplitude)"
   ]
  },
  {
   "cell_type": "code",
   "execution_count": 35,
   "metadata": {},
   "outputs": [
    {
     "data": {
      "text/plain": [
       "0"
      ]
     },
     "execution_count": 35,
     "metadata": {},
     "output_type": "execute_result"
    }
   ],
   "source": [
    "AAA = [-9, 8, -1]\n",
    "solution(AAA)"
   ]
  },
  {
   "cell_type": "code",
   "execution_count": 36,
   "metadata": {},
   "outputs": [
    {
     "data": {
      "text/plain": [
       "1"
      ]
     },
     "execution_count": 36,
     "metadata": {},
     "output_type": "execute_result"
    }
   ],
   "source": [
    "AA = [14, 10, 5, 1, 0]\n",
    "solution(AA)"
   ]
  },
  {
   "cell_type": "code",
   "execution_count": 37,
   "metadata": {},
   "outputs": [
    {
     "data": {
      "text/plain": [
       "3"
      ]
     },
     "execution_count": 37,
     "metadata": {},
     "output_type": "execute_result"
    }
   ],
   "source": [
    "A = [11, 0, -6, -1, -3, 5]\n",
    "solution(A)"
   ]
  },
  {
   "cell_type": "code",
   "execution_count": 38,
   "metadata": {},
   "outputs": [
    {
     "data": {
      "text/plain": [
       "0"
      ]
     },
     "execution_count": 38,
     "metadata": {},
     "output_type": "execute_result"
    }
   ],
   "source": [
    "B = [10, 10, -6, 2, -3, 10]\n",
    "solution(B)"
   ]
  },
  {
   "cell_type": "code",
   "execution_count": 39,
   "metadata": {},
   "outputs": [
    {
     "data": {
      "text/plain": [
       "2"
      ]
     },
     "execution_count": 39,
     "metadata": {},
     "output_type": "execute_result"
    }
   ],
   "source": [
    "BB = [8, -1, 4, 3, 5, -1]\n",
    "solution(BB)"
   ]
  },
  {
   "cell_type": "code",
   "execution_count": null,
   "metadata": {},
   "outputs": [],
   "source": []
  }
 ],
 "metadata": {
  "kernelspec": {
   "display_name": "Python 3",
   "language": "python",
   "name": "python3"
  },
  "language_info": {
   "codemirror_mode": {
    "name": "ipython",
    "version": 3
   },
   "file_extension": ".py",
   "mimetype": "text/x-python",
   "name": "python",
   "nbconvert_exporter": "python",
   "pygments_lexer": "ipython3",
   "version": "3.7.6"
  }
 },
 "nbformat": 4,
 "nbformat_minor": 4
}
