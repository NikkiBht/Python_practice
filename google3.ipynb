{
 "cells": [
  {
   "cell_type": "markdown",
   "metadata": {},
   "source": [
    "We are given an array A consisting of N integers. Find the maximum K (from 0 to N − 1) such that there exists a pair of positions (i, j) satisfying K = |i − j| = |A[i] − A[j]|, where |x| denotes absolute value of x. In other words, the distance between positions is equal to the difference between values. A position together with itself (when i = j) is always a valid pair for K = 0 (look at the third example).\n",
    "\n",
    "Write a function:\n",
    "\n",
    "class Solution { public int solution(int[] A); }\n",
    "\n",
    "that, given an array A of N integers, returns the maximum possible K.\n",
    "\n",
    "Examples:\n",
    "\n",
    "1. Given A = [2, 2, 2, 1], the function should return 1. The furthest valid pair is A[2] = 2 and A[3] = 1, as 1 = |2 − 3| = |2 − 1|.\n",
    "\n",
    "2. Given A = [2, 4, 6, 7, 4, 7, 2], the function should return 5. The furthest valid pair is A[0] and A[5].\n",
    "\n",
    "3. Given A = [100, 100, 100], the function should return 0. The only valid pairs are: A[0] and A[0], A[1] and A[1], A[2] and A[2].\n",
    "\n",
    "4. Given A = [1000000000], the function should return 0. The only valid pair is: A[0] and A[0].\n",
    "\n",
    "Write an efficient algorithm for the following assumptions:\n",
    "\n",
    "N is an integer within the range [1..100,000];\n",
    "\n",
    "each element of array A is an integer within the range [0..1,000,000,000]."
   ]
  },
  {
   "cell_type": "code",
   "execution_count": 15,
   "metadata": {},
   "outputs": [],
   "source": [
    "def solution(A):\n",
    "    \n",
    "    all_possible_k = []\n",
    "    \n",
    "    for i in range(len(A)):\n",
    "        for j in range(len(A)):\n",
    "            \n",
    "            if abs(A[i] - A[j]) == abs(i - j):\n",
    "                all_possible_k.append(abs(i - j))\n",
    "\n",
    "    return max(all_possible_k)"
   ]
  },
  {
   "cell_type": "code",
   "execution_count": 16,
   "metadata": {},
   "outputs": [],
   "source": [
    "A = [2, 2, 2, 1]"
   ]
  },
  {
   "cell_type": "code",
   "execution_count": null,
   "metadata": {},
   "outputs": [],
   "source": [
    "solution(A)"
   ]
  }
 ],
 "metadata": {
  "kernelspec": {
   "display_name": "Python 3",
   "language": "python",
   "name": "python3"
  },
  "language_info": {
   "codemirror_mode": {
    "name": "ipython",
    "version": 3
   },
   "file_extension": ".py",
   "mimetype": "text/x-python",
   "name": "python",
   "nbconvert_exporter": "python",
   "pygments_lexer": "ipython3",
   "version": "3.7.6"
  }
 },
 "nbformat": 4,
 "nbformat_minor": 4
}
