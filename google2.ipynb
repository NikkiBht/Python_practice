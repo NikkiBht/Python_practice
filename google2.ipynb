{
 "cells": [
  {
   "cell_type": "markdown",
   "metadata": {},
   "source": [
    "You are given a string S consisting of N lowercase English letters. A split of string S is a partition into two non-empty strings S1 and S2 such that S1 + S2 = S (where the \"+\" operator means string concatenation). You would like to find the number of splits of S into S1 and S2 such that the number of distinct letters in S1 equals the number of distinct letters in S2.\n",
    "\n",
    "For example, given S = \"abaca\" we can split S into S1 = \"ab\" and S2 = \"aca\". The number of distinct letters in S1 and S2 is equal to 2, so the split is valid.\n",
    "\n",
    "On the other hand, splitting S into S1 = \"a\" and S2 = \"baca\" is invalid. In this split S1 has one distinct letter and S2 has three distinct letters.\n",
    "\n",
    "Write a function:\n",
    "\n",
    "class Solution { public int solution(String S); }\n",
    "\n",
    "that, given a non-empty string S consisting of N letters, returns the number of possible splits into two parts such that the number of distinct letters in each part is equal.\n",
    "\n",
    "Examples:\n",
    "\n",
    "Given S = \"abaca\", the function should return 2. S has the following possible splits: (\"a\", \"baca\"), (\"ab\", \"aca\"), (\"aba\", \"ca\"), (\"abac\", \"a\") with the numbers of distinct letters respectively: (1, 3), (2, 2), (2, 2), (3, 1), so the only valid splits are (\"ab\", \"aca\") and (\"aba\", \"ca\"), and therefore the result is 2.\n",
    "Given S = \"aaaa\", the function should return 3. The following splits contain equal numbers of distinct letters: (\"a\", \"aaa\"), (\"aa\", \"aa\"), (\"aaa\", \"a\").\n",
    "Given S = \"ab\", the function should return 1. The only valid split is (\"a\", \"b\").\n",
    "Write an efficient algorithm for the following assumptions:\n",
    "N is an integer within the range [2..200,000];\n",
    "string S consists only of lowercase letters (a−z)."
   ]
  },
  {
   "cell_type": "code",
   "execution_count": 59,
   "metadata": {},
   "outputs": [],
   "source": [
    "def solution(aa):\n",
    "    k = 0\n",
    "    for i in range(len(aa)):\n",
    "        if len(set(aa[0:i:])) == len(set(aa[i:-1:]+aa[-1])):\n",
    "            k+=1\n",
    "    return k"
   ]
  },
  {
   "cell_type": "code",
   "execution_count": 60,
   "metadata": {},
   "outputs": [],
   "source": [
    "aa=\"ab\""
   ]
  },
  {
   "cell_type": "code",
   "execution_count": 61,
   "metadata": {},
   "outputs": [
    {
     "data": {
      "text/plain": [
       "1"
      ]
     },
     "execution_count": 61,
     "metadata": {},
     "output_type": "execute_result"
    }
   ],
   "source": [
    "solution(aa)"
   ]
  },
  {
   "cell_type": "code",
   "execution_count": 62,
   "metadata": {},
   "outputs": [
    {
     "name": "stdout",
     "output_type": "stream",
     "text": [
      "a\n",
      "b\n",
      "next\n"
     ]
    }
   ],
   "source": [
    "k = 0\n",
    "for i in range(len(aa)):\n",
    "    if len(set(aa[0:i:])) == len(set(aa[i:-1:]+aa[-1])):\n",
    "        print(aa[0:i:])\n",
    "        print(aa[i:-1:]+aa[-1])\n",
    "        print(\"next\")\n"
   ]
  },
  {
   "cell_type": "code",
   "execution_count": null,
   "metadata": {},
   "outputs": [],
   "source": []
  }
 ],
 "metadata": {
  "kernelspec": {
   "display_name": "Python 3",
   "language": "python",
   "name": "python3"
  },
  "language_info": {
   "codemirror_mode": {
    "name": "ipython",
    "version": 3
   },
   "file_extension": ".py",
   "mimetype": "text/x-python",
   "name": "python",
   "nbconvert_exporter": "python",
   "pygments_lexer": "ipython3",
   "version": "3.7.6"
  }
 },
 "nbformat": 4,
 "nbformat_minor": 4
}
